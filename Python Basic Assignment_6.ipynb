{
 "cells": [
  {
   "cell_type": "markdown",
   "id": "e09be8f1",
   "metadata": {},
   "source": [
    "Q.[1] : What are escape characters, and how do you use them?\n",
    "\n",
    "Ans:- \n",
    "\n",
    "      \n",
    "      Following table provides the list of escape characters in Python.\n",
    "\n",
    "      Code\t  Description\n",
    "      \n",
    "      \\’    ->  Single Quote\n",
    "      \n",
    "      \\”\t->  Double Quote\n",
    "      \n",
    "      \\\\\t->  Backslash\n",
    "      \n",
    "      \\n\t->  New Line\n",
    "      \n",
    "      \\r    ->  Carriage Retrun\n",
    "      \n",
    "      \\t\t->  Tab\n",
    "      \n",
    "      \\b\t->  Backspace\n",
    "      "
   ]
  },
  {
   "cell_type": "code",
   "execution_count": 2,
   "id": "632d531a",
   "metadata": {},
   "outputs": [
    {
     "name": "stdout",
     "output_type": "stream",
     "text": [
      "hello'Dk\n"
     ]
    }
   ],
   "source": [
    "a = 'hello\\'Dk'\n",
    "print(a)"
   ]
  },
  {
   "cell_type": "code",
   "execution_count": 5,
   "id": "52d1060f",
   "metadata": {},
   "outputs": [
    {
     "name": "stdout",
     "output_type": "stream",
     "text": [
      "hello\"UK\n"
     ]
    }
   ],
   "source": [
    "b = \"hello\\\"UK\"\n",
    "print(a)"
   ]
  },
  {
   "cell_type": "code",
   "execution_count": 6,
   "id": "9bbb7273",
   "metadata": {},
   "outputs": [
    {
     "name": "stdout",
     "output_type": "stream",
     "text": [
      "hello\\Dk\n"
     ]
    }
   ],
   "source": [
    "c = \"hello\\\\Dk\"\n",
    "print(c)"
   ]
  },
  {
   "cell_type": "code",
   "execution_count": 7,
   "id": "125d6944",
   "metadata": {},
   "outputs": [
    {
     "name": "stdout",
     "output_type": "stream",
     "text": [
      "hello\tDK\n"
     ]
    }
   ],
   "source": [
    "d = \"hello\\tDK\"\n",
    "print(d)"
   ]
  },
  {
   "cell_type": "code",
   "execution_count": 13,
   "id": "62ae0bd8",
   "metadata": {},
   "outputs": [
    {
     "name": "stdout",
     "output_type": "stream",
     "text": [
      "hello\bUK\n"
     ]
    }
   ],
   "source": [
    "e = \"hello\\bUK\" \n",
    "print(e)"
   ]
  },
  {
   "cell_type": "code",
   "execution_count": 15,
   "id": "5e757e34",
   "metadata": {},
   "outputs": [
    {
     "name": "stdout",
     "output_type": "stream",
     "text": [
      "DK\n"
     ]
    }
   ],
   "source": [
    "f = \"hello\\rDK\"\n",
    "print(f)"
   ]
  },
  {
   "cell_type": "code",
   "execution_count": 16,
   "id": "6b0e32fb",
   "metadata": {},
   "outputs": [
    {
     "name": "stdout",
     "output_type": "stream",
     "text": [
      "hello\n",
      "UK\n"
     ]
    }
   ],
   "source": [
    "g = \"hello\\nUK\"\n",
    "print(g)"
   ]
  },
  {
   "cell_type": "markdown",
   "id": "071b1a35",
   "metadata": {},
   "source": [
    "Q.[2] : What do the escape characters n and t stand for?\n",
    "\n",
    "Ans:- \"\\t\" is a tab, \"\\n\" is a newline"
   ]
  },
  {
   "cell_type": "code",
   "execution_count": 17,
   "id": "d45ebec3",
   "metadata": {},
   "outputs": [
    {
     "name": "stdout",
     "output_type": "stream",
     "text": [
      "hello\tDK\n"
     ]
    }
   ],
   "source": [
    "d = \"hello\\tDK\"\n",
    "print(d)"
   ]
  },
  {
   "cell_type": "code",
   "execution_count": 18,
   "id": "7c106687",
   "metadata": {},
   "outputs": [
    {
     "name": "stdout",
     "output_type": "stream",
     "text": [
      "hello\n",
      "UK\n"
     ]
    }
   ],
   "source": [
    "g = \"hello\\nUK\"\n",
    "print(g)"
   ]
  },
  {
   "cell_type": "markdown",
   "id": "15fbe0c6",
   "metadata": {},
   "source": [
    "Q.[3] : What is the way to include backslash characters in a string?\n",
    "\n",
    "Ans:- a = \"my name is\\\\Dattatri\""
   ]
  },
  {
   "cell_type": "code",
   "execution_count": 20,
   "id": "e243fbcf",
   "metadata": {},
   "outputs": [
    {
     "name": "stdout",
     "output_type": "stream",
     "text": [
      "my name is\\Dattatri\n"
     ]
    }
   ],
   "source": [
    "a = \"my name is\\\\Dattatri\"\n",
    "print(a)"
   ]
  },
  {
   "cell_type": "markdown",
   "id": "648436b2",
   "metadata": {},
   "source": [
    "Q.[4] : The string \"Howl's Moving Castle\" is a correct value. Why isn't the single quote character in the word Howl's not \n",
    "        escaped a problem?\n",
    "        \n",
    "Ans:- The single quote in Howl's is fine because we have used double quotes to mark the beginning and end of the string."
   ]
  },
  {
   "cell_type": "code",
   "execution_count": 21,
   "id": "663ff7aa",
   "metadata": {},
   "outputs": [
    {
     "name": "stdout",
     "output_type": "stream",
     "text": [
      "Howl's Moving Castle\n"
     ]
    }
   ],
   "source": [
    "b = \"Howl's Moving Castle\"\n",
    "print(b)"
   ]
  },
  {
   "cell_type": "markdown",
   "id": "8c82bdcc",
   "metadata": {},
   "source": [
    "Q.[5] : How do you write a string of newlines if you don't want to use the n character?\n",
    "\n",
    "Ans:-  we can use the parameter end ='\\n' in print function\n"
   ]
  },
  {
   "cell_type": "code",
   "execution_count": 3,
   "id": "14dcc550",
   "metadata": {},
   "outputs": [
    {
     "name": "stdout",
     "output_type": "stream",
     "text": [
      "printing something in multiple lines\n",
      "newline\n"
     ]
    }
   ],
   "source": [
    "print(\"printing something in multiple lines\",end = '\\n')\n",
    "print(\"newline\")"
   ]
  },
  {
   "cell_type": "markdown",
   "id": "8004998f",
   "metadata": {},
   "source": [
    "Q.[6] : What are the values of the given expressions?\n",
    "    \n",
    "       'Hello, world!'[1]\n",
    "       'Hello, world!'[0:5]\n",
    "       'Hello, world!'[:5]\n",
    "       'Hello, world!'[3:]\n",
    "       \n",
    "Ans:-  \n",
    "\n",
    "      'Hello, world!'[1]   -> 'e'\n",
    "      \n",
    "      'Hello, world!'[0:5] -> 'Hello'\n",
    "      \n",
    "      'Hello, world!'[:5]  -> 'Hello'\n",
    "      \n",
    "      'Hello, world!'[3:]  -> 'lo, world!'"
   ]
  },
  {
   "cell_type": "code",
   "execution_count": 4,
   "id": "da00be18",
   "metadata": {},
   "outputs": [
    {
     "data": {
      "text/plain": [
       "'e'"
      ]
     },
     "execution_count": 4,
     "metadata": {},
     "output_type": "execute_result"
    }
   ],
   "source": [
    "'Hello, world!'[1]"
   ]
  },
  {
   "cell_type": "code",
   "execution_count": 5,
   "id": "cd888e77",
   "metadata": {},
   "outputs": [
    {
     "data": {
      "text/plain": [
       "'Hello'"
      ]
     },
     "execution_count": 5,
     "metadata": {},
     "output_type": "execute_result"
    }
   ],
   "source": [
    "'Hello, world!'[0:5]"
   ]
  },
  {
   "cell_type": "code",
   "execution_count": 6,
   "id": "6e777d8e",
   "metadata": {},
   "outputs": [
    {
     "data": {
      "text/plain": [
       "'Hello'"
      ]
     },
     "execution_count": 6,
     "metadata": {},
     "output_type": "execute_result"
    }
   ],
   "source": [
    "'Hello, world!'[:5]"
   ]
  },
  {
   "cell_type": "code",
   "execution_count": 7,
   "id": "98ec4175",
   "metadata": {},
   "outputs": [
    {
     "data": {
      "text/plain": [
       "'lo, world!'"
      ]
     },
     "execution_count": 7,
     "metadata": {},
     "output_type": "execute_result"
    }
   ],
   "source": [
    "'Hello, world!'[3:]"
   ]
  },
  {
   "cell_type": "markdown",
   "id": "0e3ec99b",
   "metadata": {},
   "source": [
    "Q.[7] : What are the values of the following expressions?\n",
    "\n",
    "\n",
    "     'Hello'.upper()\n",
    "     'Hello'.upper().isupper()\n",
    "     'Hello'.upper().lower()\n",
    "     \n",
    "Ans:-\n",
    "\n",
    "     'Hello'.upper()            -> 'HELLO'\n",
    "     \n",
    "     'Hello'.upper().isupper()  ->  True\n",
    "     \n",
    "     'Hello'.upper().lower()    -> 'hello"
   ]
  },
  {
   "cell_type": "code",
   "execution_count": 11,
   "id": "3bda0ab7",
   "metadata": {},
   "outputs": [
    {
     "data": {
      "text/plain": [
       "'HELLO'"
      ]
     },
     "execution_count": 11,
     "metadata": {},
     "output_type": "execute_result"
    }
   ],
   "source": [
    "'Hello'.upper()"
   ]
  },
  {
   "cell_type": "code",
   "execution_count": 13,
   "id": "e2ba3b6e",
   "metadata": {},
   "outputs": [
    {
     "data": {
      "text/plain": [
       "True"
      ]
     },
     "execution_count": 13,
     "metadata": {},
     "output_type": "execute_result"
    }
   ],
   "source": [
    "'Hello'.upper().isupper()"
   ]
  },
  {
   "cell_type": "code",
   "execution_count": 14,
   "id": "9d1d6893",
   "metadata": {},
   "outputs": [
    {
     "data": {
      "text/plain": [
       "'hello'"
      ]
     },
     "execution_count": 14,
     "metadata": {},
     "output_type": "execute_result"
    }
   ],
   "source": [
    "'Hello'.upper().lower()"
   ]
  },
  {
   "cell_type": "markdown",
   "id": "e023a9e8",
   "metadata": {},
   "source": [
    "Q.[8] : What are the values of the following expressions?\n",
    "\n",
    "\n",
    "      'Remember, remember, the fifth of July.'.split()\n",
    "      '-'.join('There can only one.'.split())\n",
    "      \n",
    "Ans:- \n",
    "\n",
    "      'Remember, remember, the fifth of July.'.split()  -> ['Remember,', 'remember,', 'the', 'fifth', 'of', 'July.']\n",
    "      \n",
    "      '-'.join('There can only one.'.split())           -> 'There-can-only-one.'"
   ]
  },
  {
   "cell_type": "code",
   "execution_count": 15,
   "id": "ebce6618",
   "metadata": {},
   "outputs": [
    {
     "data": {
      "text/plain": [
       "['Remember,', 'remember,', 'the', 'fifth', 'of', 'July.']"
      ]
     },
     "execution_count": 15,
     "metadata": {},
     "output_type": "execute_result"
    }
   ],
   "source": [
    "'Remember, remember, the fifth of July.'.split()"
   ]
  },
  {
   "cell_type": "code",
   "execution_count": 18,
   "id": "a8e3f159",
   "metadata": {},
   "outputs": [
    {
     "data": {
      "text/plain": [
       "'There-can-only-one.'"
      ]
     },
     "execution_count": 18,
     "metadata": {},
     "output_type": "execute_result"
    }
   ],
   "source": [
    "'-'.join('There can only one.'.split())"
   ]
  },
  {
   "cell_type": "markdown",
   "id": "fce1e862",
   "metadata": {},
   "source": [
    "Q.[9] : What are the methods for right-justifying, left-justifying, and centering a string?\n",
    "\n",
    "Ans:-   \n",
    "\n",
    "      The following methods are used for justifying strings\n",
    "      \n",
    "      ljust()\n",
    "      rjust()\n",
    "      center()"
   ]
  },
  {
   "cell_type": "code",
   "execution_count": 24,
   "id": "d766f1df",
   "metadata": {},
   "outputs": [
    {
     "data": {
      "text/plain": [
       "'Dattatri____________'"
      ]
     },
     "execution_count": 24,
     "metadata": {},
     "output_type": "execute_result"
    }
   ],
   "source": [
    "str =\"Dattatri\"\n",
    "str.ljust(20,\"_\")"
   ]
  },
  {
   "cell_type": "code",
   "execution_count": 23,
   "id": "9d4ea2a4",
   "metadata": {},
   "outputs": [
    {
     "data": {
      "text/plain": [
       "'____________Dattatri'"
      ]
     },
     "execution_count": 23,
     "metadata": {},
     "output_type": "execute_result"
    }
   ],
   "source": [
    "str = \"Dattatri\"\n",
    "str.rjust(20,\"_\")"
   ]
  },
  {
   "cell_type": "code",
   "execution_count": 28,
   "id": "4e0f4ba0",
   "metadata": {},
   "outputs": [
    {
     "data": {
      "text/plain": [
       "'______Dattatri______'"
      ]
     },
     "execution_count": 28,
     "metadata": {},
     "output_type": "execute_result"
    }
   ],
   "source": [
    "str = \"Dattatri\"\n",
    "str.center(20,\"_\")"
   ]
  },
  {
   "cell_type": "markdown",
   "id": "07455aa3",
   "metadata": {},
   "source": [
    "Q.[10] : What is the best way to remove whitespace characters from the start or end?\n",
    "\n",
    "Ans:- \n",
    "\n",
    "      lstrip()  ->  Return a copy of the string with leading whitespace removed.\n",
    "      \n",
    "      rstrip()  ->  Return a copy of the string with trailing whitespace removed."
   ]
  },
  {
   "cell_type": "code",
   "execution_count": 29,
   "id": "6df4b5d7",
   "metadata": {},
   "outputs": [
    {
     "data": {
      "text/plain": [
       "'Dattatri  '"
      ]
     },
     "execution_count": 29,
     "metadata": {},
     "output_type": "execute_result"
    }
   ],
   "source": [
    "d = \"  Dattatri  \"\n",
    "d.lstrip()"
   ]
  },
  {
   "cell_type": "code",
   "execution_count": 30,
   "id": "357d3fea",
   "metadata": {},
   "outputs": [
    {
     "data": {
      "text/plain": [
       "'  Dattatri'"
      ]
     },
     "execution_count": 30,
     "metadata": {},
     "output_type": "execute_result"
    }
   ],
   "source": [
    "k = \"  Dattatri  \"\n",
    "k.rstrip()"
   ]
  },
  {
   "cell_type": "code",
   "execution_count": null,
   "id": "35f031b2",
   "metadata": {},
   "outputs": [],
   "source": []
  }
 ],
 "metadata": {
  "kernelspec": {
   "display_name": "Python 3 (ipykernel)",
   "language": "python",
   "name": "python3"
  },
  "language_info": {
   "codemirror_mode": {
    "name": "ipython",
    "version": 3
   },
   "file_extension": ".py",
   "mimetype": "text/x-python",
   "name": "python",
   "nbconvert_exporter": "python",
   "pygments_lexer": "ipython3",
   "version": "3.9.12"
  }
 },
 "nbformat": 4,
 "nbformat_minor": 5
}
